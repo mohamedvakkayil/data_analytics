{
 "cells": [
  {
   "cell_type": "code",
   "execution_count": 1,
   "metadata": {},
   "outputs": [
    {
     "name": "stdout",
     "output_type": "stream",
     "text": [
      "      YEAR        DISTRICT  VEHICLE_IN_STREET                        NEIGHBOUR\n",
      "0     2015      North York                 46               Pleasant View (46)\n",
      "1     2015  Etobicoke York                 23        Pelmo Park-Humberlea (23)\n",
      "2     2015  Etobicoke York                 17                      Mimico (17)\n",
      "3     2015  Etobicoke York                 14  Islington-City Centre West (14)\n",
      "4     2015  Etobicoke York                 14  Islington-City Centre West (14)\n",
      "...    ...             ...                ...                              ...\n",
      "1069  2018      North York                 48           Hillcrest Village (48)\n",
      "1070  2018      North York                 48           Hillcrest Village (48)\n",
      "1071  2018     Scarborough                130                   Milliken (130)\n",
      "1072  2018     Scarborough                130                   Milliken (130)\n",
      "1073  2018     Scarborough                130                   Milliken (130)\n",
      "\n",
      "[3989 rows x 4 columns]\n"
     ]
    }
   ],
   "source": [
    "from code import df_new as df_2\n",
    "\n",
    "print(df_2)"
   ]
  }
 ],
 "metadata": {
  "kernelspec": {
   "display_name": "vproj",
   "language": "python",
   "name": "python3"
  },
  "language_info": {
   "codemirror_mode": {
    "name": "ipython",
    "version": 3
   },
   "file_extension": ".py",
   "mimetype": "text/x-python",
   "name": "python",
   "nbconvert_exporter": "python",
   "pygments_lexer": "ipython3",
   "version": "3.9.6"
  },
  "orig_nbformat": 4
 },
 "nbformat": 4,
 "nbformat_minor": 2
}
